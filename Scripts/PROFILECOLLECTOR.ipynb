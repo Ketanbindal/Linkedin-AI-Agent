{
 "cells": [
  {
   "cell_type": "code",
   "execution_count": 4,
   "metadata": {},
   "outputs": [
    {
     "ename": "InvalidSessionIdException",
     "evalue": "Message: invalid session id: session deleted as the browser has closed the connection\nfrom disconnected: not connected to DevTools\n  (Session info: chrome=136.0.7103.48)\nStacktrace:\n\tGetHandleVerifier [0x005EFBD3+61635]\n\tGetHandleVerifier [0x005EFC14+61700]\n\t(No symbol) [0x004105D3]\n\t(No symbol) [0x003FFE20]\n\t(No symbol) [0x0041DD1F]\n\t(No symbol) [0x00483E8C]\n\t(No symbol) [0x0049DF19]\n\t(No symbol) [0x0047D096]\n\t(No symbol) [0x0044C840]\n\t(No symbol) [0x0044D6A4]\n\tGetHandleVerifier [0x00837043+2450739]\n\tGetHandleVerifier [0x008327C6+2432182]\n\tGetHandleVerifier [0x0084D50E+2542078]\n\tGetHandleVerifier [0x00606895+155013]\n\tGetHandleVerifier [0x0060CF7D+181357]\n\tGetHandleVerifier [0x005F7428+92440]\n\tGetHandleVerifier [0x005F75D0+92864]\n\tGetHandleVerifier [0x005E1FC0+5296]\n\tBaseThreadInitThunk [0x76045D49+25]\n\tRtlInitializeExceptionChain [0x7741CFFB+107]\n\tRtlGetAppContainerNamedObjectPath [0x7741CF81+561]\n",
     "output_type": "error",
     "traceback": [
      "\u001b[1;31m---------------------------------------------------------------------------\u001b[0m",
      "\u001b[1;31mInvalidSessionIdException\u001b[0m                 Traceback (most recent call last)",
      "Cell \u001b[1;32mIn[4], line 30\u001b[0m\n\u001b[0;32m     27\u001b[0m driver\u001b[38;5;241m.\u001b[39mget(url)\n\u001b[0;32m     28\u001b[0m time\u001b[38;5;241m.\u001b[39msleep(\u001b[38;5;241m5\u001b[39m)\n\u001b[1;32m---> 30\u001b[0m profiles \u001b[38;5;241m=\u001b[39m \u001b[43mdriver\u001b[49m\u001b[38;5;241;43m.\u001b[39;49m\u001b[43mfind_elements\u001b[49m\u001b[43m(\u001b[49m\u001b[43mBy\u001b[49m\u001b[38;5;241;43m.\u001b[39;49m\u001b[43mCLASS_NAME\u001b[49m\u001b[43m,\u001b[49m\u001b[43m \u001b[49m\u001b[38;5;124;43m\"\u001b[39;49m\u001b[38;5;124;43mreusable-search__result-container\u001b[39;49m\u001b[38;5;124;43m\"\u001b[39;49m\u001b[43m)\u001b[49m\n\u001b[0;32m     32\u001b[0m \u001b[38;5;28;01mfor\u001b[39;00m p \u001b[38;5;129;01min\u001b[39;00m profiles:\n\u001b[0;32m     33\u001b[0m     \u001b[38;5;28;01mtry\u001b[39;00m:\n",
      "File \u001b[1;32mc:\\Users\\KetanBindal\\AppData\\Local\\Programs\\Python\\Python313\\Lib\\site-packages\\selenium\\webdriver\\remote\\webdriver.py:792\u001b[0m, in \u001b[0;36mWebDriver.find_elements\u001b[1;34m(self, by, value)\u001b[0m\n\u001b[0;32m    788\u001b[0m     \u001b[38;5;28;01mreturn\u001b[39;00m \u001b[38;5;28mself\u001b[39m\u001b[38;5;241m.\u001b[39mexecute_script(find_element_js, by\u001b[38;5;241m.\u001b[39mto_dict())\n\u001b[0;32m    790\u001b[0m \u001b[38;5;66;03m# Return empty list if driver returns null\u001b[39;00m\n\u001b[0;32m    791\u001b[0m \u001b[38;5;66;03m# See https://github.com/SeleniumHQ/selenium/issues/4555\u001b[39;00m\n\u001b[1;32m--> 792\u001b[0m \u001b[38;5;28;01mreturn\u001b[39;00m \u001b[38;5;28;43mself\u001b[39;49m\u001b[38;5;241;43m.\u001b[39;49m\u001b[43mexecute\u001b[49m\u001b[43m(\u001b[49m\u001b[43mCommand\u001b[49m\u001b[38;5;241;43m.\u001b[39;49m\u001b[43mFIND_ELEMENTS\u001b[49m\u001b[43m,\u001b[49m\u001b[43m \u001b[49m\u001b[43m{\u001b[49m\u001b[38;5;124;43m\"\u001b[39;49m\u001b[38;5;124;43musing\u001b[39;49m\u001b[38;5;124;43m\"\u001b[39;49m\u001b[43m:\u001b[49m\u001b[43m \u001b[49m\u001b[43mby\u001b[49m\u001b[43m,\u001b[49m\u001b[43m \u001b[49m\u001b[38;5;124;43m\"\u001b[39;49m\u001b[38;5;124;43mvalue\u001b[39;49m\u001b[38;5;124;43m\"\u001b[39;49m\u001b[43m:\u001b[49m\u001b[43m \u001b[49m\u001b[43mvalue\u001b[49m\u001b[43m}\u001b[49m\u001b[43m)\u001b[49m[\u001b[38;5;124m\"\u001b[39m\u001b[38;5;124mvalue\u001b[39m\u001b[38;5;124m\"\u001b[39m] \u001b[38;5;129;01mor\u001b[39;00m []\n",
      "File \u001b[1;32mc:\\Users\\KetanBindal\\AppData\\Local\\Programs\\Python\\Python313\\Lib\\site-packages\\selenium\\webdriver\\remote\\webdriver.py:384\u001b[0m, in \u001b[0;36mWebDriver.execute\u001b[1;34m(self, driver_command, params)\u001b[0m\n\u001b[0;32m    382\u001b[0m response \u001b[38;5;241m=\u001b[39m \u001b[38;5;28mself\u001b[39m\u001b[38;5;241m.\u001b[39mcommand_executor\u001b[38;5;241m.\u001b[39mexecute(driver_command, params)\n\u001b[0;32m    383\u001b[0m \u001b[38;5;28;01mif\u001b[39;00m response:\n\u001b[1;32m--> 384\u001b[0m     \u001b[38;5;28;43mself\u001b[39;49m\u001b[38;5;241;43m.\u001b[39;49m\u001b[43merror_handler\u001b[49m\u001b[38;5;241;43m.\u001b[39;49m\u001b[43mcheck_response\u001b[49m\u001b[43m(\u001b[49m\u001b[43mresponse\u001b[49m\u001b[43m)\u001b[49m\n\u001b[0;32m    385\u001b[0m     response[\u001b[38;5;124m\"\u001b[39m\u001b[38;5;124mvalue\u001b[39m\u001b[38;5;124m\"\u001b[39m] \u001b[38;5;241m=\u001b[39m \u001b[38;5;28mself\u001b[39m\u001b[38;5;241m.\u001b[39m_unwrap_value(response\u001b[38;5;241m.\u001b[39mget(\u001b[38;5;124m\"\u001b[39m\u001b[38;5;124mvalue\u001b[39m\u001b[38;5;124m\"\u001b[39m, \u001b[38;5;28;01mNone\u001b[39;00m))\n\u001b[0;32m    386\u001b[0m     \u001b[38;5;28;01mreturn\u001b[39;00m response\n",
      "File \u001b[1;32mc:\\Users\\KetanBindal\\AppData\\Local\\Programs\\Python\\Python313\\Lib\\site-packages\\selenium\\webdriver\\remote\\errorhandler.py:232\u001b[0m, in \u001b[0;36mErrorHandler.check_response\u001b[1;34m(self, response)\u001b[0m\n\u001b[0;32m    230\u001b[0m         alert_text \u001b[38;5;241m=\u001b[39m value[\u001b[38;5;124m\"\u001b[39m\u001b[38;5;124malert\u001b[39m\u001b[38;5;124m\"\u001b[39m]\u001b[38;5;241m.\u001b[39mget(\u001b[38;5;124m\"\u001b[39m\u001b[38;5;124mtext\u001b[39m\u001b[38;5;124m\"\u001b[39m)\n\u001b[0;32m    231\u001b[0m     \u001b[38;5;28;01mraise\u001b[39;00m exception_class(message, screen, stacktrace, alert_text)  \u001b[38;5;66;03m# type: ignore[call-arg]  # mypy is not smart enough here\u001b[39;00m\n\u001b[1;32m--> 232\u001b[0m \u001b[38;5;28;01mraise\u001b[39;00m exception_class(message, screen, stacktrace)\n",
      "\u001b[1;31mInvalidSessionIdException\u001b[0m: Message: invalid session id: session deleted as the browser has closed the connection\nfrom disconnected: not connected to DevTools\n  (Session info: chrome=136.0.7103.48)\nStacktrace:\n\tGetHandleVerifier [0x005EFBD3+61635]\n\tGetHandleVerifier [0x005EFC14+61700]\n\t(No symbol) [0x004105D3]\n\t(No symbol) [0x003FFE20]\n\t(No symbol) [0x0041DD1F]\n\t(No symbol) [0x00483E8C]\n\t(No symbol) [0x0049DF19]\n\t(No symbol) [0x0047D096]\n\t(No symbol) [0x0044C840]\n\t(No symbol) [0x0044D6A4]\n\tGetHandleVerifier [0x00837043+2450739]\n\tGetHandleVerifier [0x008327C6+2432182]\n\tGetHandleVerifier [0x0084D50E+2542078]\n\tGetHandleVerifier [0x00606895+155013]\n\tGetHandleVerifier [0x0060CF7D+181357]\n\tGetHandleVerifier [0x005F7428+92440]\n\tGetHandleVerifier [0x005F75D0+92864]\n\tGetHandleVerifier [0x005E1FC0+5296]\n\tBaseThreadInitThunk [0x76045D49+25]\n\tRtlInitializeExceptionChain [0x7741CFFB+107]\n\tRtlGetAppContainerNamedObjectPath [0x7741CF81+561]\n"
     ]
    }
   ],
   "source": [
    "from selenium import webdriver\n",
    "from selenium.webdriver.common.by import By\n",
    "from selenium.webdriver.chrome.service import Service\n",
    "from selenium.webdriver.chrome.options import Options\n",
    "from webdriver_manager.chrome import ChromeDriverManager\n",
    "import time\n",
    "import pandas as pd\n",
    "\n",
    "options = Options()\n",
    "# 👉 Use your current Chrome user profile so no need to login again\n",
    "# options.add_argument(r\"--user-data-dir=C:\\Users\\YourUser\\AppData\\Local\\Google\\Chrome\\User Data\")\n",
    "options.add_argument(r'--profile-directory=Default')  # or 'Profile 1', 'Profile 2' if you use multiple\n",
    "\n",
    "driver = webdriver.Chrome(service=Service(ChromeDriverManager().install()), options=options)\n",
    "\n",
    "search_keywords = [\n",
    "    \"hr it bangalore\",\n",
    "    \"talent acquisition delhi\",\n",
    "    \"technical recruiter pune\"\n",
    "]\n",
    "\n",
    "profile_data = []\n",
    "\n",
    "for keyword in search_keywords:\n",
    "    query = keyword.replace(\" \", \"%20\")\n",
    "    url = f\"https://www.linkedin.com/search/results/people/?keywords={query}\"\n",
    "    driver.get(url)\n",
    "    time.sleep(5)\n",
    "\n",
    "    profiles = driver.find_elements(By.CLASS_NAME, \"reusable-search__result-container\")\n",
    "    \n",
    "    for p in profiles:\n",
    "        try:\n",
    "            name = p.find_element(By.TAG_NAME, \"span\").text\n",
    "            link_elem = p.find_element(By.TAG_NAME, \"a\")\n",
    "            link = link_elem.get_attribute(\"href\")\n",
    "            title = p.text\n",
    "            profile_data.append({\n",
    "                \"name\": name,\n",
    "                \"link\": link,\n",
    "                \"title_snippet\": title\n",
    "            })\n",
    "        except:\n",
    "            continue\n",
    "\n",
    "# Save to CSV\n",
    "df = pd.DataFrame(profile_data)\n",
    "df.to_csv(\"linkedin_hr_profiles.csv\", index=False)\n",
    "print(\"✅ Done! Profiles saved in CSV.\")\n",
    "\n",
    "driver.quit()\n"
   ]
  },
  {
   "cell_type": "code",
   "execution_count": null,
   "metadata": {},
   "outputs": [],
   "source": []
  }
 ],
 "metadata": {
  "kernelspec": {
   "display_name": "Python 3",
   "language": "python",
   "name": "python3"
  },
  "language_info": {
   "codemirror_mode": {
    "name": "ipython",
    "version": 3
   },
   "file_extension": ".py",
   "mimetype": "text/x-python",
   "name": "python",
   "nbconvert_exporter": "python",
   "pygments_lexer": "ipython3",
   "version": "3.13.0"
  }
 },
 "nbformat": 4,
 "nbformat_minor": 5
}
